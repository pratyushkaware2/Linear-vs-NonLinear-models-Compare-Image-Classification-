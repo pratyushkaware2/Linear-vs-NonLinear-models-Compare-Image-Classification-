{
  "nbformat": 4,
  "nbformat_minor": 0,
  "metadata": {
    "colab": {
      "provenance": []
    },
    "kernelspec": {
      "name": "python3",
      "display_name": "Python 3"
    },
    "language_info": {
      "name": "python"
    }
  },
  "cells": [
    {
      "cell_type": "markdown",
      "source": [
        "# Importing required libraries."
      ],
      "metadata": {
        "id": "5HdAGpFAns_V"
      }
    },
    {
      "cell_type": "code",
      "source": [
        "from os import listdir\n",
        "import pandas as pd\n",
        "import math\n",
        "from time import time\n",
        "from tqdm import tqdm\n",
        "from collections import defaultdict\n",
        "from sklearn.model_selection import cross_val_score\n",
        "from sklearn.tree import DecisionTreeClassifier\n",
        "from sklearn.ensemble import BaggingClassifier\n",
        "from sklearn.ensemble import RandomForestClassifier\n",
        "from sklearn.ensemble import GradientBoostingClassifier\n",
        "from sklearn.metrics import precision_recall_fscore_support\n",
        "from sklearn.model_selection import train_test_split"
      ],
      "metadata": {
        "id": "tqr4UzzVpxc1"
      },
      "execution_count": 101,
      "outputs": []
    },
    {
      "cell_type": "markdown",
      "source": [
        "# Preprocessing CSV dataset to dictionaries of dfs."
      ],
      "metadata": {
        "id": "7nQg8u39QGw8"
      }
    },
    {
      "cell_type": "code",
      "execution_count": 8,
      "metadata": {
        "id": "kcmyj-YandaZ"
      },
      "outputs": [],
      "source": [
        "filedir = \"/content/drive/MyDrive/all_data/\"\n",
        "datasets = defaultdict(lambda: defaultdict(lambda: defaultdict()))\n",
        "for filename in listdir(filedir):\n",
        "  typ, clauses, size = filename.split('_')\n",
        "  datasets[int(clauses[1:])][int(size[1:-4])][typ] = pd.read_csv(filedir+\"/\"+filename, sep = ',', header = None)"
      ]
    },
    {
      "cell_type": "markdown",
      "source": [
        "# Decision Tree Classifier"
      ],
      "metadata": {
        "id": "hg7FQSlN8DLP"
      }
    },
    {
      "cell_type": "code",
      "source": [
        "for num_clauses in [300, 500, 1000, 1500, 1800]:\n",
        "  for data_size in [100, 1000, 5000]:\n",
        "    st = time()\n",
        "    trainX, trainy = datasets[num_clauses][data_size]['train'].iloc[:,:-1], datasets[num_clauses][data_size]['train'].iloc[:,-1]\n",
        "    validX, validy = datasets[num_clauses][data_size]['valid'].iloc[:,:-1], datasets[num_clauses][data_size]['valid'].iloc[:,-1]\n",
        "    \n",
        "    print('===========================================================================')\n",
        "    print('c',num_clauses,'d',data_size)\n",
        "    print('===========================================================================')\n",
        "\n",
        "    print(\"Finding optimal parameters:\")\n",
        "    #Optimizing on depth\n",
        "    store_accs2 = []\n",
        "    with tqdm(total=3, position=0, leave=True) as pbar:\n",
        "      for attr in ['sqrt', 'log2', None]:\n",
        "        for try_reduce_depth in range(data_size//50, int(data_size//2),data_size//50):\n",
        "          clf = DecisionTreeClassifier(random_state = 0, max_features=attr, min_samples_leaf=try_reduce_depth).fit(trainX, trainy)\n",
        "          tr_acc, val_acc = clf.score(trainX, trainy), clf.score(validX, validy) \n",
        "          store_accs2.append((attr, try_reduce_depth, val_acc))\n",
        "        pbar.update()\n",
        "    optimal_num_feat, optimal_depth_red, val_acc_best= max(store_accs2, key = lambda x: x[2])\n",
        "    print(\"\\nValidation Accuracy:\", val_acc_best, \"For\", optimal_num_feat, \"max_features and\", optimal_depth_red, \"min_samples_leaf\")\n",
        "\n",
        "    #Combined train and validation dataset\n",
        "    fin_trainX, fin_trainy = pd.concat([trainX, validX], axis = 0), pd.concat([trainy, validy], axis = 0)\n",
        "    clf = DecisionTreeClassifier(random_state = 0, max_features=optimal_num_feat, min_samples_leaf=optimal_depth_red).fit(fin_trainX, fin_trainy)\n",
        "\n",
        "    testX, testy = datasets[num_clauses][data_size]['test'].iloc[:,:-1], datasets[num_clauses][data_size]['test'].iloc[:,-1]\n",
        "    ypred = clf.predict(testX)\n",
        "    test_acc = clf.score(testX, testy) \n",
        "    precision, recall, f1, _ = precision_recall_fscore_support(testy, ypred, average = 'macro')\n",
        "    print(\"\\nOn test dataset:\\n\", \"Accuracy:\", test_acc, \"\\n\", \"Precision:\", precision, \"\\n\", \"Recall:\", recall, \"\\n\", \"F1:\", f1, \"\\n\")\n",
        "    print(\"Total Time Taken:\", time()-st,\"\\n\")"
      ],
      "metadata": {
        "colab": {
          "base_uri": "https://localhost:8080/"
        },
        "id": "yzf6U7Yesq7S",
        "outputId": "60c3d4d3-6068-4e5f-ac8e-c2558ccd8bf2"
      },
      "execution_count": 123,
      "outputs": [
        {
          "output_type": "stream",
          "name": "stdout",
          "text": [
            "===========================================================================\n",
            "c 300 d 100\n",
            "===========================================================================\n",
            "Finding optimal parameters:\n"
          ]
        },
        {
          "output_type": "stream",
          "name": "stderr",
          "text": [
            "100%|██████████| 3/3 [00:01<00:00,  2.37it/s]\n"
          ]
        },
        {
          "output_type": "stream",
          "name": "stdout",
          "text": [
            "\n",
            "Validation Accuracy: 0.65 For None max_features and 12 min_samples_leaf\n",
            "\n",
            "On test dataset:\n",
            " Accuracy: 0.63 \n",
            " Precision: 0.6302083333333333 \n",
            " Recall: 0.63 \n",
            " F1: 0.6298519407763106 \n",
            "\n",
            "Total Time Taken: 1.3187751770019531 \n",
            "\n",
            "===========================================================================\n",
            "c 300 d 1000\n",
            "===========================================================================\n",
            "Finding optimal parameters:\n"
          ]
        },
        {
          "output_type": "stream",
          "name": "stderr",
          "text": [
            "100%|██████████| 3/3 [00:02<00:00,  1.25it/s]\n"
          ]
        },
        {
          "output_type": "stream",
          "name": "stdout",
          "text": [
            "\n",
            "Validation Accuracy: 0.6485 For None max_features and 80 min_samples_leaf\n",
            "\n",
            "On test dataset:\n",
            " Accuracy: 0.647 \n",
            " Precision: 0.6480446027167694 \n",
            " Recall: 0.647 \n",
            " F1: 0.6463762076302597 \n",
            "\n",
            "Total Time Taken: 2.601274251937866 \n",
            "\n",
            "===========================================================================\n",
            "c 300 d 5000\n",
            "===========================================================================\n",
            "Finding optimal parameters:\n"
          ]
        },
        {
          "output_type": "stream",
          "name": "stderr",
          "text": [
            "100%|██████████| 3/3 [00:08<00:00,  2.97s/it]\n"
          ]
        },
        {
          "output_type": "stream",
          "name": "stdout",
          "text": [
            "\n",
            "Validation Accuracy: 0.7179 For None max_features and 100 min_samples_leaf\n",
            "\n",
            "On test dataset:\n",
            " Accuracy: 0.7404 \n",
            " Precision: 0.7481932276368817 \n",
            " Recall: 0.7404 \n",
            " F1: 0.7383460267763534 \n",
            "\n",
            "Total Time Taken: 10.283243894577026 \n",
            "\n",
            "===========================================================================\n",
            "c 500 d 100\n",
            "===========================================================================\n",
            "Finding optimal parameters:\n"
          ]
        },
        {
          "output_type": "stream",
          "name": "stderr",
          "text": [
            "100%|██████████| 3/3 [00:01<00:00,  2.43it/s]\n"
          ]
        },
        {
          "output_type": "stream",
          "name": "stdout",
          "text": [
            "\n",
            "Validation Accuracy: 0.66 For log2 max_features and 6 min_samples_leaf\n",
            "\n",
            "On test dataset:\n",
            " Accuracy: 0.575 \n",
            " Precision: 0.575007500750075 \n",
            " Recall: 0.575 \n",
            " F1: 0.5749893747343684 \n",
            "\n",
            "Total Time Taken: 1.2714288234710693 \n",
            "\n",
            "===========================================================================\n",
            "c 500 d 1000\n",
            "===========================================================================\n",
            "Finding optimal parameters:\n"
          ]
        },
        {
          "output_type": "stream",
          "name": "stderr",
          "text": [
            "100%|██████████| 3/3 [00:02<00:00,  1.25it/s]\n"
          ]
        },
        {
          "output_type": "stream",
          "name": "stdout",
          "text": [
            "\n",
            "Validation Accuracy: 0.7055 For None max_features and 20 min_samples_leaf\n",
            "\n",
            "On test dataset:\n",
            " Accuracy: 0.699 \n",
            " Precision: 0.7004141220451505 \n",
            " Recall: 0.6990000000000001 \n",
            " F1: 0.6984680977243858 \n",
            "\n",
            "Total Time Taken: 2.664541482925415 \n",
            "\n",
            "===========================================================================\n",
            "c 500 d 5000\n",
            "===========================================================================\n",
            "Finding optimal parameters:\n"
          ]
        },
        {
          "output_type": "stream",
          "name": "stderr",
          "text": [
            "100%|██████████| 3/3 [00:09<00:00,  3.05s/it]\n"
          ]
        },
        {
          "output_type": "stream",
          "name": "stdout",
          "text": [
            "\n",
            "Validation Accuracy: 0.7284 For None max_features and 100 min_samples_leaf\n",
            "\n",
            "On test dataset:\n",
            " Accuracy: 0.7454 \n",
            " Precision: 0.7455559378427676 \n",
            " Recall: 0.7454000000000001 \n",
            " F1: 0.7453595732858549 \n",
            "\n",
            "Total Time Taken: 10.5201416015625 \n",
            "\n",
            "===========================================================================\n",
            "c 1000 d 100\n",
            "===========================================================================\n",
            "Finding optimal parameters:\n"
          ]
        },
        {
          "output_type": "stream",
          "name": "stderr",
          "text": [
            "100%|██████████| 3/3 [00:01<00:00,  2.49it/s]\n"
          ]
        },
        {
          "output_type": "stream",
          "name": "stdout",
          "text": [
            "\n",
            "Validation Accuracy: 0.765 For sqrt max_features and 2 min_samples_leaf\n",
            "\n",
            "On test dataset:\n",
            " Accuracy: 0.725 \n",
            " Precision: 0.72886786695148 \n",
            " Recall: 0.7250000000000001 \n",
            " F1: 0.7238331952499311 \n",
            "\n",
            "Total Time Taken: 1.2478928565979004 \n",
            "\n",
            "===========================================================================\n",
            "c 1000 d 1000\n",
            "===========================================================================\n",
            "Finding optimal parameters:\n"
          ]
        },
        {
          "output_type": "stream",
          "name": "stderr",
          "text": [
            "100%|██████████| 3/3 [00:02<00:00,  1.22it/s]\n"
          ]
        },
        {
          "output_type": "stream",
          "name": "stdout",
          "text": [
            "\n",
            "Validation Accuracy: 0.7975 For None max_features and 40 min_samples_leaf\n",
            "\n",
            "On test dataset:\n",
            " Accuracy: 0.7905 \n",
            " Precision: 0.7954160179547856 \n",
            " Recall: 0.7905 \n",
            " F1: 0.7896247865181121 \n",
            "\n",
            "Total Time Taken: 2.684218406677246 \n",
            "\n",
            "===========================================================================\n",
            "c 1000 d 5000\n",
            "===========================================================================\n",
            "Finding optimal parameters:\n"
          ]
        },
        {
          "output_type": "stream",
          "name": "stderr",
          "text": [
            "100%|██████████| 3/3 [00:09<00:00,  3.17s/it]\n"
          ]
        },
        {
          "output_type": "stream",
          "name": "stdout",
          "text": [
            "\n",
            "Validation Accuracy: 0.8064 For None max_features and 200 min_samples_leaf\n",
            "\n",
            "On test dataset:\n",
            " Accuracy: 0.8162 \n",
            " Precision: 0.816548912873726 \n",
            " Recall: 0.8162 \n",
            " F1: 0.8161493381116101 \n",
            "\n",
            "Total Time Taken: 10.63574767112732 \n",
            "\n",
            "===========================================================================\n",
            "c 1500 d 100\n",
            "===========================================================================\n",
            "Finding optimal parameters:\n"
          ]
        },
        {
          "output_type": "stream",
          "name": "stderr",
          "text": [
            "100%|██████████| 3/3 [00:01<00:00,  2.48it/s]\n"
          ]
        },
        {
          "output_type": "stream",
          "name": "stdout",
          "text": [
            "\n",
            "Validation Accuracy: 0.865 For None max_features and 12 min_samples_leaf\n",
            "\n",
            "On test dataset:\n",
            " Accuracy: 0.86 \n",
            " Precision: 0.8613006824568447 \n",
            " Recall: 0.86 \n",
            " F1: 0.8598738864978481 \n",
            "\n",
            "Total Time Taken: 1.2580153942108154 \n",
            "\n",
            "===========================================================================\n",
            "c 1500 d 1000\n",
            "===========================================================================\n",
            "Finding optimal parameters:\n"
          ]
        },
        {
          "output_type": "stream",
          "name": "stderr",
          "text": [
            "100%|██████████| 3/3 [00:02<00:00,  1.20it/s]\n"
          ]
        },
        {
          "output_type": "stream",
          "name": "stdout",
          "text": [
            "\n",
            "Validation Accuracy: 0.907 For None max_features and 20 min_samples_leaf\n",
            "\n",
            "On test dataset:\n",
            " Accuracy: 0.929 \n",
            " Precision: 0.9290617848970252 \n",
            " Recall: 0.929 \n",
            " F1: 0.9289974439079808 \n",
            "\n",
            "Total Time Taken: 2.7387776374816895 \n",
            "\n",
            "===========================================================================\n",
            "c 1500 d 5000\n",
            "===========================================================================\n",
            "Finding optimal parameters:\n"
          ]
        },
        {
          "output_type": "stream",
          "name": "stderr",
          "text": [
            "100%|██████████| 3/3 [00:09<00:00,  3.23s/it]\n"
          ]
        },
        {
          "output_type": "stream",
          "name": "stdout",
          "text": [
            "\n",
            "Validation Accuracy: 0.9171 For None max_features and 100 min_samples_leaf\n",
            "\n",
            "On test dataset:\n",
            " Accuracy: 0.9394 \n",
            " Precision: 0.9394034449230082 \n",
            " Recall: 0.9394 \n",
            " F1: 0.9393998812237672 \n",
            "\n",
            "Total Time Taken: 10.856064319610596 \n",
            "\n",
            "===========================================================================\n",
            "c 1800 d 100\n",
            "===========================================================================\n",
            "Finding optimal parameters:\n"
          ]
        },
        {
          "output_type": "stream",
          "name": "stderr",
          "text": [
            "100%|██████████| 3/3 [00:01<00:00,  2.50it/s]\n"
          ]
        },
        {
          "output_type": "stream",
          "name": "stdout",
          "text": [
            "\n",
            "Validation Accuracy: 0.98 For None max_features and 6 min_samples_leaf\n",
            "\n",
            "On test dataset:\n",
            " Accuracy: 0.94 \n",
            " Precision: 0.9401760704281713 \n",
            " Recall: 0.94 \n",
            " F1: 0.93999399939994 \n",
            "\n",
            "Total Time Taken: 1.248870849609375 \n",
            "\n",
            "===========================================================================\n",
            "c 1800 d 1000\n",
            "===========================================================================\n",
            "Finding optimal parameters:\n"
          ]
        },
        {
          "output_type": "stream",
          "name": "stderr",
          "text": [
            "100%|██████████| 3/3 [00:02<00:00,  1.24it/s]\n"
          ]
        },
        {
          "output_type": "stream",
          "name": "stdout",
          "text": [
            "\n",
            "Validation Accuracy: 0.962 For None max_features and 20 min_samples_leaf\n",
            "\n",
            "On test dataset:\n",
            " Accuracy: 0.9595 \n",
            " Precision: 0.961105106877039 \n",
            " Recall: 0.9595 \n",
            " F1: 0.9594647241762143 \n",
            "\n",
            "Total Time Taken: 2.6088056564331055 \n",
            "\n",
            "===========================================================================\n",
            "c 1800 d 5000\n",
            "===========================================================================\n",
            "Finding optimal parameters:\n"
          ]
        },
        {
          "output_type": "stream",
          "name": "stderr",
          "text": [
            "100%|██████████| 3/3 [00:09<00:00,  3.15s/it]\n"
          ]
        },
        {
          "output_type": "stream",
          "name": "stdout",
          "text": [
            "\n",
            "Validation Accuracy: 0.9694 For None max_features and 100 min_samples_leaf\n",
            "\n",
            "On test dataset:\n",
            " Accuracy: 0.9681 \n",
            " Precision: 0.9685502768160201 \n",
            " Recall: 0.9681 \n",
            " F1: 0.9680923341832876 \n",
            "\n",
            "Total Time Taken: 10.467654943466187 \n",
            "\n"
          ]
        }
      ]
    },
    {
      "cell_type": "markdown",
      "source": [
        "# Bagging Classifier"
      ],
      "metadata": {
        "id": "vAIrzkphPXLY"
      }
    },
    {
      "cell_type": "code",
      "source": [
        "for num_clauses in [300, 500, 1000, 1500, 1800]:\n",
        "  for data_size in [100, 1000, 5000]:\n",
        "    st = time()\n",
        "    trainX, trainy = datasets[num_clauses][data_size]['train'].iloc[:,:-1], datasets[num_clauses][data_size]['train'].iloc[:,-1]\n",
        "    validX, validy = datasets[num_clauses][data_size]['valid'].iloc[:,:-1], datasets[num_clauses][data_size]['valid'].iloc[:,-1] \n",
        "    \n",
        "    print('===========================================================================')\n",
        "    print('c',num_clauses,'d',data_size)\n",
        "    print('===========================================================================')\n",
        "\n",
        "    print(\"Finding optimal parameters:\")\n",
        "    #Optimizing on depth\n",
        "    store_accs2 = []\n",
        "    with tqdm(total=3, position=0, leave=True) as pbar:\n",
        "      for name_try, attr in [('None', trainX.shape[1]),('sqrt', int(math.sqrt(trainX.shape[1]))), ('log2', int(math.log2(trainX.shape[1])))]:\n",
        "        for try_estimator in range(15, 30  ,5):\n",
        "          clf = BaggingClassifier(random_state = 0, estimator=DecisionTreeClassifier(), max_features=attr, n_estimators=try_estimator).fit(trainX, trainy)\n",
        "          tr_acc, val_acc = clf.score(trainX, trainy), clf.score(validX, validy) \n",
        "          store_accs2.append((attr, try_estimator, val_acc))\n",
        "        pbar.update()\n",
        "    optimal_num_feat, optimal_est_n, val_acc_best= max(store_accs2, key = lambda x: x[2])\n",
        "    print(\"\\nValidation Accuracy:\", val_acc_best, \"For\", optimal_num_feat, \"max_features and\", optimal_est_n, \"n_estimators\")\n",
        "\n",
        "    #Combined train and validation dataset\n",
        "    fin_trainX, fin_trainy = pd.concat([trainX, validX], axis = 0), pd.concat([trainy, validy], axis = 0)\n",
        "    clf = BaggingClassifier(random_state = 0, estimator=DecisionTreeClassifier(), max_features=optimal_num_feat, n_estimators=optimal_est_n).fit(fin_trainX, fin_trainy)\n",
        "\n",
        "    testX, testy = datasets[num_clauses][data_size]['test'].iloc[:,:-1], datasets[num_clauses][data_size]['test'].iloc[:,-1]\n",
        "    ypred = clf.predict(testX)\n",
        "    test_acc = clf.score(testX, testy) \n",
        "    precision, recall, f1, _ = precision_recall_fscore_support(testy, ypred, average = 'macro')\n",
        "    print(\"\\nOn test dataset:\\n\", \"Accuracy:\", test_acc, \"\\n\", \"Precision:\", precision, \"\\n\", \"Recall:\", recall, \"\\n\", \"F1:\", f1, \"\\n\")\n",
        "    print(\"Total Time Taken:\", time()-st,\"\\n\")"
      ],
      "metadata": {
        "colab": {
          "base_uri": "https://localhost:8080/"
        },
        "id": "GPnfnwsMF-Hv",
        "outputId": "3c3b8927-80bc-4874-cbd9-d2b728e88168"
      },
      "execution_count": 122,
      "outputs": [
        {
          "output_type": "stream",
          "name": "stdout",
          "text": [
            "===========================================================================\n",
            "c 300 d 100\n",
            "===========================================================================\n",
            "Finding optimal parameters:\n"
          ]
        },
        {
          "output_type": "stream",
          "name": "stderr",
          "text": [
            "100%|██████████| 3/3 [00:02<00:00,  1.37it/s]\n"
          ]
        },
        {
          "output_type": "stream",
          "name": "stdout",
          "text": [
            "\n",
            "Validation Accuracy: 0.63 For 500 max_features and 15 n_estimators\n",
            "\n",
            "On test dataset:\n",
            " Accuracy: 0.675 \n",
            " Precision: 0.675017501750175 \n",
            " Recall: 0.675 \n",
            " F1: 0.67499187479687 \n",
            "\n",
            "Total Time Taken: 2.5724146366119385 \n",
            "\n",
            "===========================================================================\n",
            "c 300 d 1000\n",
            "===========================================================================\n",
            "Finding optimal parameters:\n"
          ]
        },
        {
          "output_type": "stream",
          "name": "stderr",
          "text": [
            "100%|██████████| 3/3 [00:06<00:00,  2.08s/it]\n"
          ]
        },
        {
          "output_type": "stream",
          "name": "stdout",
          "text": [
            "\n",
            "Validation Accuracy: 0.804 For 500 max_features and 25 n_estimators\n",
            "\n",
            "On test dataset:\n",
            " Accuracy: 0.8225 \n",
            " Precision: 0.8226422852477943 \n",
            " Recall: 0.8225 \n",
            " F1: 0.8224804284672386 \n",
            "\n",
            "Total Time Taken: 10.36277461051941 \n",
            "\n",
            "===========================================================================\n",
            "c 300 d 5000\n",
            "===========================================================================\n",
            "Finding optimal parameters:\n"
          ]
        },
        {
          "output_type": "stream",
          "name": "stderr",
          "text": [
            "100%|██████████| 3/3 [00:38<00:00, 12.77s/it]\n"
          ]
        },
        {
          "output_type": "stream",
          "name": "stdout",
          "text": [
            "\n",
            "Validation Accuracy: 0.8726 For 500 max_features and 25 n_estimators\n",
            "\n",
            "On test dataset:\n",
            " Accuracy: 0.8972 \n",
            " Precision: 0.9005313958531247 \n",
            " Recall: 0.8972 \n",
            " F1: 0.8969857963855723 \n",
            "\n",
            "Total Time Taken: 69.6938943862915 \n",
            "\n",
            "===========================================================================\n",
            "c 500 d 100\n",
            "===========================================================================\n",
            "Finding optimal parameters:\n"
          ]
        },
        {
          "output_type": "stream",
          "name": "stderr",
          "text": [
            "100%|██████████| 3/3 [00:00<00:00,  3.53it/s]\n"
          ]
        },
        {
          "output_type": "stream",
          "name": "stdout",
          "text": [
            "\n",
            "Validation Accuracy: 0.765 For 500 max_features and 25 n_estimators\n",
            "\n",
            "On test dataset:\n",
            " Accuracy: 0.795 \n",
            " Precision: 0.7957393483709273 \n",
            " Recall: 0.7949999999999999 \n",
            " F1: 0.7948717948717949 \n",
            "\n",
            "Total Time Taken: 1.2179772853851318 \n",
            "\n",
            "===========================================================================\n",
            "c 500 d 1000\n",
            "===========================================================================\n",
            "Finding optimal parameters:\n"
          ]
        },
        {
          "output_type": "stream",
          "name": "stderr",
          "text": [
            "100%|██████████| 3/3 [00:06<00:00,  2.24s/it]\n"
          ]
        },
        {
          "output_type": "stream",
          "name": "stdout",
          "text": [
            "\n",
            "Validation Accuracy: 0.839 For 500 max_features and 25 n_estimators\n",
            "\n",
            "On test dataset:\n",
            " Accuracy: 0.8615 \n",
            " Precision: 0.8618477356739827 \n",
            " Recall: 0.8614999999999999 \n",
            " F1: 0.8614667173788503 \n",
            "\n",
            "Total Time Taken: 10.801147937774658 \n",
            "\n",
            "===========================================================================\n",
            "c 500 d 5000\n",
            "===========================================================================\n",
            "Finding optimal parameters:\n"
          ]
        },
        {
          "output_type": "stream",
          "name": "stderr",
          "text": [
            "100%|██████████| 3/3 [00:36<00:00, 12.31s/it]\n"
          ]
        },
        {
          "output_type": "stream",
          "name": "stdout",
          "text": [
            "\n",
            "Validation Accuracy: 0.8846 For 500 max_features and 25 n_estimators\n",
            "\n",
            "On test dataset:\n",
            " Accuracy: 0.9147 \n",
            " Precision: 0.9151521006375943 \n",
            " Recall: 0.9147000000000001 \n",
            " F1: 0.914676770750837 \n",
            "\n",
            "Total Time Taken: 68.90495777130127 \n",
            "\n",
            "===========================================================================\n",
            "c 1000 d 100\n",
            "===========================================================================\n",
            "Finding optimal parameters:\n"
          ]
        },
        {
          "output_type": "stream",
          "name": "stderr",
          "text": [
            "100%|██████████| 3/3 [00:00<00:00,  3.64it/s]\n"
          ]
        },
        {
          "output_type": "stream",
          "name": "stdout",
          "text": [
            "\n",
            "Validation Accuracy: 0.84 For 500 max_features and 20 n_estimators\n",
            "\n",
            "On test dataset:\n",
            " Accuracy: 0.875 \n",
            " Precision: 0.8759398496240601 \n",
            " Recall: 0.875 \n",
            " F1: 0.8749218261413383 \n",
            "\n",
            "Total Time Taken: 1.1150665283203125 \n",
            "\n",
            "===========================================================================\n",
            "c 1000 d 1000\n",
            "===========================================================================\n",
            "Finding optimal parameters:\n"
          ]
        },
        {
          "output_type": "stream",
          "name": "stderr",
          "text": [
            "100%|██████████| 3/3 [00:04<00:00,  1.62s/it]\n"
          ]
        },
        {
          "output_type": "stream",
          "name": "stdout",
          "text": [
            "\n",
            "Validation Accuracy: 0.917 For 500 max_features and 25 n_estimators\n",
            "\n",
            "On test dataset:\n",
            " Accuracy: 0.9245 \n",
            " Precision: 0.925214786055359 \n",
            " Recall: 0.9245 \n",
            " F1: 0.9244682577853343 \n",
            "\n",
            "Total Time Taken: 9.853615760803223 \n",
            "\n",
            "===========================================================================\n",
            "c 1000 d 5000\n",
            "===========================================================================\n",
            "Finding optimal parameters:\n"
          ]
        },
        {
          "output_type": "stream",
          "name": "stderr",
          "text": [
            "100%|██████████| 3/3 [00:32<00:00, 10.75s/it]\n"
          ]
        },
        {
          "output_type": "stream",
          "name": "stdout",
          "text": [
            "\n",
            "Validation Accuracy: 0.9452 For 8 max_features and 25 n_estimators\n",
            "\n",
            "On test dataset:\n",
            " Accuracy: 0.955 \n",
            " Precision: 0.9550612330395178 \n",
            " Recall: 0.9550000000000001 \n",
            " F1: 0.954998486149074 \n",
            "\n",
            "Total Time Taken: 32.729610443115234 \n",
            "\n",
            "===========================================================================\n",
            "c 1500 d 100\n",
            "===========================================================================\n",
            "Finding optimal parameters:\n"
          ]
        },
        {
          "output_type": "stream",
          "name": "stderr",
          "text": [
            "100%|██████████| 3/3 [00:00<00:00,  3.77it/s]\n"
          ]
        },
        {
          "output_type": "stream",
          "name": "stdout",
          "text": [
            "\n",
            "Validation Accuracy: 0.975 For 22 max_features and 25 n_estimators\n",
            "\n",
            "On test dataset:\n",
            " Accuracy: 0.985 \n",
            " Precision: 0.9850485048504851 \n",
            " Recall: 0.985 \n",
            " F1: 0.9849996249906248 \n",
            "\n",
            "Total Time Taken: 0.9037103652954102 \n",
            "\n",
            "===========================================================================\n",
            "c 1500 d 1000\n",
            "===========================================================================\n",
            "Finding optimal parameters:\n"
          ]
        },
        {
          "output_type": "stream",
          "name": "stderr",
          "text": [
            "100%|██████████| 3/3 [00:04<00:00,  1.64s/it]\n"
          ]
        },
        {
          "output_type": "stream",
          "name": "stdout",
          "text": [
            "\n",
            "Validation Accuracy: 0.9875 For 8 max_features and 25 n_estimators\n",
            "\n",
            "On test dataset:\n",
            " Accuracy: 0.9925 \n",
            " Precision: 0.9925123128078202 \n",
            " Recall: 0.9924999999999999 \n",
            " F1: 0.9924999531247072 \n",
            "\n",
            "Total Time Taken: 5.218010663986206 \n",
            "\n",
            "===========================================================================\n",
            "c 1500 d 5000\n",
            "===========================================================================\n",
            "Finding optimal parameters:\n"
          ]
        },
        {
          "output_type": "stream",
          "name": "stderr",
          "text": [
            "100%|██████████| 3/3 [00:27<00:00,  9.25s/it]\n"
          ]
        },
        {
          "output_type": "stream",
          "name": "stdout",
          "text": [
            "\n",
            "Validation Accuracy: 0.9963 For 8 max_features and 25 n_estimators\n",
            "\n",
            "On test dataset:\n",
            " Accuracy: 0.9977 \n",
            " Precision: 0.997703364474744 \n",
            " Recall: 0.9977 \n",
            " F1: 0.9976999961129934 \n",
            "\n",
            "Total Time Taken: 28.225281715393066 \n",
            "\n",
            "===========================================================================\n",
            "c 1800 d 100\n",
            "===========================================================================\n",
            "Finding optimal parameters:\n"
          ]
        },
        {
          "output_type": "stream",
          "name": "stderr",
          "text": [
            "100%|██████████| 3/3 [00:00<00:00,  3.82it/s]\n"
          ]
        },
        {
          "output_type": "stream",
          "name": "stdout",
          "text": [
            "\n",
            "Validation Accuracy: 0.995 For 500 max_features and 20 n_estimators\n",
            "\n",
            "On test dataset:\n",
            " Accuracy: 0.97 \n",
            " Precision: 0.970188075230092 \n",
            " Recall: 0.97 \n",
            " F1: 0.96999699969997 \n",
            "\n",
            "Total Time Taken: 1.0107195377349854 \n",
            "\n",
            "===========================================================================\n",
            "c 1800 d 1000\n",
            "===========================================================================\n",
            "Finding optimal parameters:\n"
          ]
        },
        {
          "output_type": "stream",
          "name": "stderr",
          "text": [
            "100%|██████████| 3/3 [00:05<00:00,  1.69s/it]\n"
          ]
        },
        {
          "output_type": "stream",
          "name": "stdout",
          "text": [
            "\n",
            "Validation Accuracy: 1.0 For 22 max_features and 25 n_estimators\n",
            "\n",
            "On test dataset:\n",
            " Accuracy: 1.0 \n",
            " Precision: 1.0 \n",
            " Recall: 1.0 \n",
            " F1: 1.0 \n",
            "\n",
            "Total Time Taken: 5.349790096282959 \n",
            "\n",
            "===========================================================================\n",
            "c 1800 d 5000\n",
            "===========================================================================\n",
            "Finding optimal parameters:\n"
          ]
        },
        {
          "output_type": "stream",
          "name": "stderr",
          "text": [
            "100%|██████████| 3/3 [00:21<00:00,  7.27s/it]\n"
          ]
        },
        {
          "output_type": "stream",
          "name": "stdout",
          "text": [
            "\n",
            "Validation Accuracy: 0.9998 For 8 max_features and 25 n_estimators\n",
            "\n",
            "On test dataset:\n",
            " Accuracy: 0.9997 \n",
            " Precision: 0.9997000199880008 \n",
            " Recall: 0.9997 \n",
            " F1: 0.999699999997 \n",
            "\n",
            "Total Time Taken: 22.264930248260498 \n",
            "\n"
          ]
        }
      ]
    },
    {
      "cell_type": "markdown",
      "source": [
        "# Random Forest Classifier"
      ],
      "metadata": {
        "id": "7n1ywDuNPbKM"
      }
    },
    {
      "cell_type": "code",
      "source": [
        "for num_clauses in [300, 500, 1000, 1500, 1800]:\n",
        "  for data_size in [100, 1000, 5000]:\n",
        "    st = time()\n",
        "    trainX, trainy = datasets[num_clauses][data_size]['train'].iloc[:,:-1], datasets[num_clauses][data_size]['train'].iloc[:,-1]\n",
        "    validX, validy = datasets[num_clauses][data_size]['valid'].iloc[:,:-1], datasets[num_clauses][data_size]['valid'].iloc[:,-1]\n",
        "    clf = RandomForestClassifier(max_features=trainX.shape[1], min_samples_leaf=1).fit(trainX, trainy)\n",
        "    tr_acc, val_acc = clf.score(trainX, trainy), clf.score(validX, validy) \n",
        "    \n",
        "    print('===========================================================================')\n",
        "    print('c',num_clauses,'d',data_size)\n",
        "    print('===========================================================================')\n",
        "\n",
        "    print(\"Finding optimal parameters:\")\n",
        "    store_accs2 = []\n",
        "    with tqdm(total=3, position=0, leave=True) as pbar:\n",
        "      for attr in ['sqrt', 'log2', None]:\n",
        "        for try_reduce_depth in range(data_size//50, int(data_size*val_acc_best),data_size//50):\n",
        "          clf = RandomForestClassifier(random_state = 0, max_features=attr, min_samples_leaf=try_reduce_depth).fit(trainX, trainy)\n",
        "          tr_acc, val_acc = clf.score(trainX, trainy), clf.score(validX, validy) \n",
        "          store_accs2.append((attr, try_reduce_depth, val_acc))\n",
        "        pbar.update()\n",
        "    optimal_num_feat, optimal_depth_red, val_acc_best= max(store_accs2, key = lambda x: x[2])\n",
        "    print(\"\\nValidation Accuracy:\", val_acc_best, \"For\", optimal_num_feat, \"max_features and\", optimal_depth_red, \"min_samples_leaf\")\n",
        "\n",
        "    #Combined train and validation dataset\n",
        "    fin_trainX, fin_trainy = pd.concat([trainX, validX], axis = 0), pd.concat([trainy, validy], axis = 0)\n",
        "    clf = RandomForestClassifier(random_state = 0, max_features=optimal_num_feat, min_samples_leaf=optimal_depth_red).fit(fin_trainX, fin_trainy)\n",
        "\n",
        "    testX, testy = datasets[num_clauses][data_size]['test'].iloc[:,:-1], datasets[num_clauses][data_size]['test'].iloc[:,-1]\n",
        "    ypred = clf.predict(testX)\n",
        "    test_acc = clf.score(testX, testy) \n",
        "    precision, recall, f1, _ = precision_recall_fscore_support(testy, ypred, average = 'macro')\n",
        "    print(\"\\nOn test dataset:\\n\", \"Accuracy:\", test_acc, \"\\n\", \"Precision:\", precision, \"\\n\", \"Recall:\", recall, \"\\n\", \"F1:\", f1, \"\\n\")\n",
        "    print(\"Total Time Taken:\", time()-st,\"\\n\")"
      ],
      "metadata": {
        "colab": {
          "base_uri": "https://localhost:8080/"
        },
        "id": "9WMZ9sjATIlw",
        "outputId": "86c754ae-1abe-455d-83dd-8dca0ef968b8"
      },
      "execution_count": 94,
      "outputs": [
        {
          "output_type": "stream",
          "name": "stdout",
          "text": [
            "===========================================================================\n",
            "c 300 d 100\n",
            "===========================================================================\n",
            "Finding optimal parameters:\n"
          ]
        },
        {
          "output_type": "stream",
          "name": "stderr",
          "text": [
            "100%|██████████| 3/3 [00:36<00:00, 12.20s/it]\n"
          ]
        },
        {
          "output_type": "stream",
          "name": "stdout",
          "text": [
            "\n",
            "Validation Accuracy: 0.73 For sqrt max_features and 10 min_samples_leaf\n",
            "\n",
            "On test dataset:\n",
            " Accuracy: 0.77 \n",
            " Precision: 0.7717391304347826 \n",
            " Recall: 0.77 \n",
            " F1: 0.7696314102564102 \n",
            "\n",
            "Total Time Taken: 37.854525566101074 \n",
            "\n",
            "===========================================================================\n",
            "c 300 d 1000\n",
            "===========================================================================\n",
            "Finding optimal parameters:\n"
          ]
        },
        {
          "output_type": "stream",
          "name": "stderr",
          "text": [
            "100%|██████████| 3/3 [01:49<00:00, 36.44s/it]\n"
          ]
        },
        {
          "output_type": "stream",
          "name": "stdout",
          "text": [
            "\n",
            "Validation Accuracy: 0.8705 For sqrt max_features and 20 min_samples_leaf\n",
            "\n",
            "On test dataset:\n",
            " Accuracy: 0.8725 \n",
            " Precision: 0.8725033525301727 \n",
            " Recall: 0.8725 \n",
            " F1: 0.8724997131243546 \n",
            "\n",
            "Total Time Taken: 119.38709926605225 \n",
            "\n",
            "===========================================================================\n",
            "c 300 d 5000\n",
            "===========================================================================\n",
            "Finding optimal parameters:\n"
          ]
        },
        {
          "output_type": "stream",
          "name": "stderr",
          "text": [
            "100%|██████████| 3/3 [05:59<00:00, 119.94s/it]\n"
          ]
        },
        {
          "output_type": "stream",
          "name": "stdout",
          "text": [
            "\n",
            "Validation Accuracy: 0.896 For log2 max_features and 100 min_samples_leaf\n",
            "\n",
            "On test dataset:\n",
            " Accuracy: 0.8956 \n",
            " Precision: 0.8962213384541102 \n",
            " Recall: 0.8956 \n",
            " F1: 0.8955590549719112 \n",
            "\n",
            "Total Time Taken: 445.3855035305023 \n",
            "\n",
            "===========================================================================\n",
            "c 500 d 100\n",
            "===========================================================================\n",
            "Finding optimal parameters:\n"
          ]
        },
        {
          "output_type": "stream",
          "name": "stderr",
          "text": [
            "100%|██████████| 3/3 [00:33<00:00, 11.03s/it]\n"
          ]
        },
        {
          "output_type": "stream",
          "name": "stdout",
          "text": [
            "\n",
            "Validation Accuracy: 0.89 For log2 max_features and 18 min_samples_leaf\n",
            "\n",
            "On test dataset:\n",
            " Accuracy: 0.905 \n",
            " Precision: 0.905040504050405 \n",
            " Recall: 0.905 \n",
            " F1: 0.9049976249406235 \n",
            "\n",
            "Total Time Taken: 34.2866313457489 \n",
            "\n",
            "===========================================================================\n",
            "c 500 d 1000\n",
            "===========================================================================\n",
            "Finding optimal parameters:\n"
          ]
        },
        {
          "output_type": "stream",
          "name": "stderr",
          "text": [
            "100%|██████████| 3/3 [01:31<00:00, 30.39s/it]\n"
          ]
        },
        {
          "output_type": "stream",
          "name": "stdout",
          "text": [
            "\n",
            "Validation Accuracy: 0.9305 For log2 max_features and 20 min_samples_leaf\n",
            "\n",
            "On test dataset:\n",
            " Accuracy: 0.948 \n",
            " Precision: 0.9483515075819442 \n",
            " Recall: 0.948 \n",
            " F1: 0.9479898060019765 \n",
            "\n",
            "Total Time Taken: 99.51574730873108 \n",
            "\n",
            "===========================================================================\n",
            "c 500 d 5000\n",
            "===========================================================================\n",
            "Finding optimal parameters:\n"
          ]
        },
        {
          "output_type": "stream",
          "name": "stderr",
          "text": [
            "100%|██████████| 3/3 [06:05<00:00, 121.99s/it]\n"
          ]
        },
        {
          "output_type": "stream",
          "name": "stdout",
          "text": [
            "\n",
            "Validation Accuracy: 0.943 For log2 max_features and 100 min_samples_leaf\n",
            "\n",
            "On test dataset:\n",
            " Accuracy: 0.9534 \n",
            " Precision: 0.9535535550916119 \n",
            " Recall: 0.9534 \n",
            " F1: 0.9533960554421327 \n",
            "\n",
            "Total Time Taken: 420.9317708015442 \n",
            "\n",
            "===========================================================================\n",
            "c 1000 d 100\n",
            "===========================================================================\n",
            "Finding optimal parameters:\n"
          ]
        },
        {
          "output_type": "stream",
          "name": "stderr",
          "text": [
            "100%|██████████| 3/3 [00:35<00:00, 11.86s/it]\n"
          ]
        },
        {
          "output_type": "stream",
          "name": "stdout",
          "text": [
            "\n",
            "Validation Accuracy: 0.995 For log2 max_features and 12 min_samples_leaf\n",
            "\n",
            "On test dataset:\n",
            " Accuracy: 0.985 \n",
            " Precision: 0.9854368932038835 \n",
            " Recall: 0.985 \n",
            " F1: 0.9849966242404541 \n",
            "\n",
            "Total Time Taken: 36.3954017162323 \n",
            "\n",
            "===========================================================================\n",
            "c 1000 d 1000\n",
            "===========================================================================\n",
            "Finding optimal parameters:\n"
          ]
        },
        {
          "output_type": "stream",
          "name": "stderr",
          "text": [
            "100%|██████████| 3/3 [01:36<00:00, 32.18s/it]\n"
          ]
        },
        {
          "output_type": "stream",
          "name": "stdout",
          "text": [
            "\n",
            "Validation Accuracy: 0.996 For log2 max_features and 20 min_samples_leaf\n",
            "\n",
            "On test dataset:\n",
            " Accuracy: 0.993 \n",
            " Precision: 0.993001972007888 \n",
            " Recall: 0.993 \n",
            " F1: 0.992999992999993 \n",
            "\n",
            "Total Time Taken: 103.27438879013062 \n",
            "\n",
            "===========================================================================\n",
            "c 1000 d 5000\n",
            "===========================================================================\n",
            "Finding optimal parameters:\n"
          ]
        },
        {
          "output_type": "stream",
          "name": "stderr",
          "text": [
            "100%|██████████| 3/3 [06:20<00:00, 126.75s/it]\n"
          ]
        },
        {
          "output_type": "stream",
          "name": "stdout",
          "text": [
            "\n",
            "Validation Accuracy: 0.994 For log2 max_features and 100 min_samples_leaf\n",
            "\n",
            "On test dataset:\n",
            " Accuracy: 0.9946 \n",
            " Precision: 0.9946003165442026 \n",
            " Recall: 0.9945999999999999 \n",
            " F1: 0.994599999136 \n",
            "\n",
            "Total Time Taken: 428.60812044143677 \n",
            "\n",
            "===========================================================================\n",
            "c 1500 d 100\n",
            "===========================================================================\n",
            "Finding optimal parameters:\n"
          ]
        },
        {
          "output_type": "stream",
          "name": "stderr",
          "text": [
            "100%|██████████| 3/3 [00:36<00:00, 12.31s/it]\n"
          ]
        },
        {
          "output_type": "stream",
          "name": "stdout",
          "text": [
            "\n",
            "Validation Accuracy: 1.0 For sqrt max_features and 2 min_samples_leaf\n",
            "\n",
            "On test dataset:\n",
            " Accuracy: 1.0 \n",
            " Precision: 1.0 \n",
            " Recall: 1.0 \n",
            " F1: 1.0 \n",
            "\n",
            "Total Time Taken: 37.72492337226868 \n",
            "\n",
            "===========================================================================\n",
            "c 1500 d 1000\n",
            "===========================================================================\n",
            "Finding optimal parameters:\n"
          ]
        },
        {
          "output_type": "stream",
          "name": "stderr",
          "text": [
            "100%|██████████| 3/3 [01:36<00:00, 32.13s/it]\n"
          ]
        },
        {
          "output_type": "stream",
          "name": "stdout",
          "text": [
            "\n",
            "Validation Accuracy: 1.0 For sqrt max_features and 20 min_samples_leaf\n",
            "\n",
            "On test dataset:\n",
            " Accuracy: 0.9985 \n",
            " Precision: 0.9985044865403789 \n",
            " Recall: 0.9984999999999999 \n",
            " F1: 0.9984999966249923 \n",
            "\n",
            "Total Time Taken: 102.27635312080383 \n",
            "\n",
            "===========================================================================\n",
            "c 1500 d 5000\n",
            "===========================================================================\n",
            "Finding optimal parameters:\n"
          ]
        },
        {
          "output_type": "stream",
          "name": "stderr",
          "text": [
            "100%|██████████| 3/3 [06:30<00:00, 130.16s/it]\n"
          ]
        },
        {
          "output_type": "stream",
          "name": "stdout",
          "text": [
            "\n",
            "Validation Accuracy: 0.9997 For log2 max_features and 100 min_samples_leaf\n",
            "\n",
            "On test dataset:\n",
            " Accuracy: 0.9996 \n",
            " Precision: 0.9996003197442047 \n",
            " Recall: 0.9996 \n",
            " F1: 0.9995999999359999 \n",
            "\n",
            "Total Time Taken: 429.95472717285156 \n",
            "\n",
            "===========================================================================\n",
            "c 1800 d 100\n",
            "===========================================================================\n",
            "Finding optimal parameters:\n"
          ]
        },
        {
          "output_type": "stream",
          "name": "stderr",
          "text": [
            "100%|██████████| 3/3 [00:47<00:00, 15.95s/it]\n"
          ]
        },
        {
          "output_type": "stream",
          "name": "stdout",
          "text": [
            "\n",
            "Validation Accuracy: 1.0 For sqrt max_features and 2 min_samples_leaf\n",
            "\n",
            "On test dataset:\n",
            " Accuracy: 1.0 \n",
            " Precision: 1.0 \n",
            " Recall: 1.0 \n",
            " F1: 1.0 \n",
            "\n",
            "Total Time Taken: 49.158920764923096 \n",
            "\n",
            "===========================================================================\n",
            "c 1800 d 1000\n",
            "===========================================================================\n",
            "Finding optimal parameters:\n"
          ]
        },
        {
          "output_type": "stream",
          "name": "stderr",
          "text": [
            "100%|██████████| 3/3 [01:36<00:00, 32.12s/it]\n"
          ]
        },
        {
          "output_type": "stream",
          "name": "stdout",
          "text": [
            "\n",
            "Validation Accuracy: 1.0 For sqrt max_features and 20 min_samples_leaf\n",
            "\n",
            "On test dataset:\n",
            " Accuracy: 1.0 \n",
            " Precision: 1.0 \n",
            " Recall: 1.0 \n",
            " F1: 1.0 \n",
            "\n",
            "Total Time Taken: 102.43275570869446 \n",
            "\n",
            "===========================================================================\n",
            "c 1800 d 5000\n",
            "===========================================================================\n",
            "Finding optimal parameters:\n"
          ]
        },
        {
          "output_type": "stream",
          "name": "stderr",
          "text": [
            "100%|██████████| 3/3 [06:15<00:00, 125.22s/it]\n"
          ]
        },
        {
          "output_type": "stream",
          "name": "stdout",
          "text": [
            "\n",
            "Validation Accuracy: 1.0 For sqrt max_features and 1000 min_samples_leaf\n",
            "\n",
            "On test dataset:\n",
            " Accuracy: 0.9999 \n",
            " Precision: 0.9999000199960009 \n",
            " Recall: 0.9999 \n",
            " F1: 0.9998999999989999 \n",
            "\n",
            "Total Time Taken: 407.1577808856964 \n",
            "\n"
          ]
        }
      ]
    },
    {
      "cell_type": "markdown",
      "source": [
        "# Gradient Boosting Classifier"
      ],
      "metadata": {
        "id": "A607h9ZXPfQi"
      }
    },
    {
      "cell_type": "code",
      "source": [
        "for num_clauses in [300, 500, 1000, 1500, 1800]:\n",
        "  for data_size in [100, 1000, 5000]:\n",
        "    st = time()\n",
        "    trainX, trainy = datasets[num_clauses][data_size]['train'].iloc[:,:-1], datasets[num_clauses][data_size]['train'].iloc[:,-1]\n",
        "    validX, validy = datasets[num_clauses][data_size]['valid'].iloc[:,:-1], datasets[num_clauses][data_size]['valid'].iloc[:,-1]\n",
        "    \n",
        "    print('===========================================================================')\n",
        "    print('c',num_clauses,'d',data_size)\n",
        "    print('===========================================================================')\n",
        "\n",
        "    print(\"Finding optimal n_estimators:\")\n",
        "    #Optimizing on depth\n",
        "    store_accs2 = []\n",
        "    with tqdm(total=3, position=0, leave=True) as pbar:\n",
        "      for attr in ['sqrt', 'log2', None]:\n",
        "        for try_estimator in range(15, 45, 5):\n",
        "          clf = GradientBoostingClassifier(random_state = 0, max_features=attr, n_estimators=try_estimator).fit(trainX, trainy)\n",
        "          tr_acc, val_acc = clf.score(trainX, trainy), clf.score(validX, validy) \n",
        "          store_accs2.append((attr, try_estimator, val_acc))\n",
        "        pbar.update()\n",
        "    optimal_num_feat, optimal_est_n, val_acc_best= max(store_accs2, key = lambda x: x[2])\n",
        "\n",
        "    print(\"Finding optimal learning rate:\")\n",
        "    store_accs3 = [(0.1, val_acc_best)]\n",
        "    with tqdm(total=3, position=0, leave=True) as pbar:\n",
        "      for lr in [0.01, 0.5, 1]:\n",
        "        clf = GradientBoostingClassifier(random_state = 0, max_features=optimal_num_feat, n_estimators=optimal_est_n, learning_rate = lr).fit(trainX, trainy)\n",
        "        tr_acc, val_acc = clf.score(trainX, trainy), clf.score(validX, validy) \n",
        "        store_accs3.append((lr,val_acc))\n",
        "        pbar.update()\n",
        "    opt_lr, val_acc_best= max(store_accs3, key = lambda x: x[1])\n",
        "    print(\"\\nValidation Accuracy:\", val_acc_best, \"For\", optimal_num_feat, \"max_features,\", optimal_est_n, \"n_estimators and\", opt_lr, \"learning rate.\")\n",
        "\n",
        "    #Combined train and validation dataset\n",
        "    fin_trainX, fin_trainy = pd.concat([trainX, validX], axis = 0), pd.concat([trainy, validy], axis = 0)\n",
        "    clf = GradientBoostingClassifier(random_state = 0, max_features=optimal_num_feat, n_estimators=optimal_est_n, learning_rate = opt_lr).fit(fin_trainX, fin_trainy)\n",
        "\n",
        "    testX, testy = datasets[num_clauses][data_size]['test'].iloc[:,:-1], datasets[num_clauses][data_size]['test'].iloc[:,-1]\n",
        "    ypred = clf.predict(testX)\n",
        "    test_acc = clf.score(testX, testy) \n",
        "    precision, recall, f1, _ = precision_recall_fscore_support(testy, ypred, average = 'macro')\n",
        "    print(\"\\nOn test dataset:\\n\", \"Accuracy:\", test_acc, \"\\n\", \"Precision:\", precision, \"\\n\", \"Recall:\", recall, \"\\n\", \"F1:\", f1, \"\\n\")\n",
        "    print(\"Total Time Taken:\", time()-st,\"\\n\")"
      ],
      "metadata": {
        "colab": {
          "base_uri": "https://localhost:8080/"
        },
        "id": "E_RRY2YVUyoO",
        "outputId": "9eba3cc5-7db7-41ba-a89d-b861b13e0e2d"
      },
      "execution_count": 99,
      "outputs": [
        {
          "output_type": "stream",
          "name": "stdout",
          "text": [
            "===========================================================================\n",
            "c 300 d 100\n",
            "===========================================================================\n",
            "Finding optimal n_estimators:\n"
          ]
        },
        {
          "output_type": "stream",
          "name": "stderr",
          "text": [
            "100%|██████████| 3/3 [00:03<00:00,  1.13s/it]\n"
          ]
        },
        {
          "output_type": "stream",
          "name": "stdout",
          "text": [
            "Finding optimal learning rate:\n"
          ]
        },
        {
          "output_type": "stream",
          "name": "stderr",
          "text": [
            "100%|██████████| 3/3 [00:01<00:00,  1.93it/s]\n"
          ]
        },
        {
          "output_type": "stream",
          "name": "stdout",
          "text": [
            "\n",
            "Validation Accuracy: 0.715 For None max_features, 30 n_estimators and 0.1 learning rate.\n",
            "\n",
            "On test dataset:\n",
            " Accuracy: 0.83 \n",
            " Precision: 0.8311922922521076 \n",
            " Recall: 0.8300000000000001 \n",
            " F1: 0.8298468621759585 \n",
            "\n",
            "Total Time Taken: 5.566346645355225 \n",
            "\n",
            "===========================================================================\n",
            "c 300 d 1000\n",
            "===========================================================================\n",
            "Finding optimal n_estimators:\n"
          ]
        },
        {
          "output_type": "stream",
          "name": "stderr",
          "text": [
            "100%|██████████| 3/3 [00:07<00:00,  2.56s/it]\n"
          ]
        },
        {
          "output_type": "stream",
          "name": "stdout",
          "text": [
            "Finding optimal learning rate:\n"
          ]
        },
        {
          "output_type": "stream",
          "name": "stderr",
          "text": [
            "100%|██████████| 3/3 [00:05<00:00,  1.84s/it]\n"
          ]
        },
        {
          "output_type": "stream",
          "name": "stdout",
          "text": [
            "\n",
            "Validation Accuracy: 0.934 For None max_features, 40 n_estimators and 0.5 learning rate.\n",
            "\n",
            "On test dataset:\n",
            " Accuracy: 0.966 \n",
            " Precision: 0.9673628300123159 \n",
            " Recall: 0.966 \n",
            " F1: 0.965975195917824 \n",
            "\n",
            "Total Time Taken: 16.76596760749817 \n",
            "\n",
            "===========================================================================\n",
            "c 300 d 5000\n",
            "===========================================================================\n",
            "Finding optimal n_estimators:\n"
          ]
        },
        {
          "output_type": "stream",
          "name": "stderr",
          "text": [
            "100%|██████████| 3/3 [00:39<00:00, 13.15s/it]\n"
          ]
        },
        {
          "output_type": "stream",
          "name": "stdout",
          "text": [
            "Finding optimal learning rate:\n"
          ]
        },
        {
          "output_type": "stream",
          "name": "stderr",
          "text": [
            "100%|██████████| 3/3 [00:24<00:00,  8.21s/it]\n"
          ]
        },
        {
          "output_type": "stream",
          "name": "stdout",
          "text": [
            "\n",
            "Validation Accuracy: 0.9837 For None max_features, 40 n_estimators and 1 learning rate.\n",
            "\n",
            "On test dataset:\n",
            " Accuracy: 0.9864 \n",
            " Precision: 0.9864899811869203 \n",
            " Recall: 0.9863999999999999 \n",
            " F1: 0.98639937110692 \n",
            "\n",
            "Total Time Taken: 83.8907310962677 \n",
            "\n",
            "===========================================================================\n",
            "c 500 d 100\n",
            "===========================================================================\n",
            "Finding optimal n_estimators:\n"
          ]
        },
        {
          "output_type": "stream",
          "name": "stderr",
          "text": [
            "100%|██████████| 3/3 [00:01<00:00,  2.12it/s]\n"
          ]
        },
        {
          "output_type": "stream",
          "name": "stdout",
          "text": [
            "Finding optimal learning rate:\n"
          ]
        },
        {
          "output_type": "stream",
          "name": "stderr",
          "text": [
            "100%|██████████| 3/3 [00:00<00:00, 14.76it/s]\n"
          ]
        },
        {
          "output_type": "stream",
          "name": "stdout",
          "text": [
            "\n",
            "Validation Accuracy: 0.815 For sqrt max_features, 40 n_estimators and 0.5 learning rate.\n",
            "\n",
            "On test dataset:\n",
            " Accuracy: 0.865 \n",
            " Precision: 0.8650365036503651 \n",
            " Recall: 0.865 \n",
            " F1: 0.8649966249156229 \n",
            "\n",
            "Total Time Taken: 1.7182738780975342 \n",
            "\n",
            "===========================================================================\n",
            "c 500 d 1000\n",
            "===========================================================================\n",
            "Finding optimal n_estimators:\n"
          ]
        },
        {
          "output_type": "stream",
          "name": "stderr",
          "text": [
            "100%|██████████| 3/3 [00:07<00:00,  2.48s/it]\n"
          ]
        },
        {
          "output_type": "stream",
          "name": "stdout",
          "text": [
            "Finding optimal learning rate:\n"
          ]
        },
        {
          "output_type": "stream",
          "name": "stderr",
          "text": [
            "100%|██████████| 3/3 [00:05<00:00,  1.99s/it]\n"
          ]
        },
        {
          "output_type": "stream",
          "name": "stdout",
          "text": [
            "\n",
            "Validation Accuracy: 0.959 For None max_features, 40 n_estimators and 0.5 learning rate.\n",
            "\n",
            "On test dataset:\n",
            " Accuracy: 0.9865 \n",
            " Precision: 0.9865394096921851 \n",
            " Recall: 0.9864999999999999 \n",
            " F1: 0.986499726619464 \n",
            "\n",
            "Total Time Taken: 16.507256746292114 \n",
            "\n",
            "===========================================================================\n",
            "c 500 d 5000\n",
            "===========================================================================\n",
            "Finding optimal n_estimators:\n"
          ]
        },
        {
          "output_type": "stream",
          "name": "stderr",
          "text": [
            "100%|██████████| 3/3 [00:39<00:00, 13.14s/it]\n"
          ]
        },
        {
          "output_type": "stream",
          "name": "stdout",
          "text": [
            "Finding optimal learning rate:\n"
          ]
        },
        {
          "output_type": "stream",
          "name": "stderr",
          "text": [
            "100%|██████████| 3/3 [00:24<00:00,  8.22s/it]\n"
          ]
        },
        {
          "output_type": "stream",
          "name": "stdout",
          "text": [
            "\n",
            "Validation Accuracy: 0.9858 For None max_features, 40 n_estimators and 1 learning rate.\n",
            "\n",
            "On test dataset:\n",
            " Accuracy: 0.9896 \n",
            " Precision: 0.9896571136057309 \n",
            " Recall: 0.9896 \n",
            " F1: 0.9895996967271565 \n",
            "\n",
            "Total Time Taken: 81.48451209068298 \n",
            "\n",
            "===========================================================================\n",
            "c 1000 d 100\n",
            "===========================================================================\n",
            "Finding optimal n_estimators:\n"
          ]
        },
        {
          "output_type": "stream",
          "name": "stderr",
          "text": [
            "100%|██████████| 3/3 [00:01<00:00,  2.19it/s]\n"
          ]
        },
        {
          "output_type": "stream",
          "name": "stdout",
          "text": [
            "Finding optimal learning rate:\n"
          ]
        },
        {
          "output_type": "stream",
          "name": "stderr",
          "text": [
            "100%|██████████| 3/3 [00:00<00:00, 18.74it/s]\n"
          ]
        },
        {
          "output_type": "stream",
          "name": "stdout",
          "text": [
            "\n",
            "Validation Accuracy: 0.965 For log2 max_features, 40 n_estimators and 0.5 learning rate.\n",
            "\n",
            "On test dataset:\n",
            " Accuracy: 0.955 \n",
            " Precision: 0.955045504550455 \n",
            " Recall: 0.955 \n",
            " F1: 0.9549988749718743 \n",
            "\n",
            "Total Time Taken: 1.6446611881256104 \n",
            "\n",
            "===========================================================================\n",
            "c 1000 d 1000\n",
            "===========================================================================\n",
            "Finding optimal n_estimators:\n"
          ]
        },
        {
          "output_type": "stream",
          "name": "stderr",
          "text": [
            "100%|██████████| 3/3 [00:07<00:00,  2.58s/it]\n"
          ]
        },
        {
          "output_type": "stream",
          "name": "stdout",
          "text": [
            "Finding optimal learning rate:\n"
          ]
        },
        {
          "output_type": "stream",
          "name": "stderr",
          "text": [
            "100%|██████████| 3/3 [00:00<00:00,  6.12it/s]\n"
          ]
        },
        {
          "output_type": "stream",
          "name": "stdout",
          "text": [
            "\n",
            "Validation Accuracy: 0.9835 For log2 max_features, 40 n_estimators and 0.5 learning rate.\n",
            "\n",
            "On test dataset:\n",
            " Accuracy: 0.98 \n",
            " Precision: 0.98 \n",
            " Recall: 0.98 \n",
            " F1: 0.98 \n",
            "\n",
            "Total Time Taken: 8.522085666656494 \n",
            "\n",
            "===========================================================================\n",
            "c 1000 d 5000\n",
            "===========================================================================\n",
            "Finding optimal n_estimators:\n"
          ]
        },
        {
          "output_type": "stream",
          "name": "stderr",
          "text": [
            "100%|██████████| 3/3 [00:38<00:00, 12.76s/it]\n"
          ]
        },
        {
          "output_type": "stream",
          "name": "stdout",
          "text": [
            "Finding optimal learning rate:\n"
          ]
        },
        {
          "output_type": "stream",
          "name": "stderr",
          "text": [
            "100%|██████████| 3/3 [00:26<00:00,  8.85s/it]\n"
          ]
        },
        {
          "output_type": "stream",
          "name": "stdout",
          "text": [
            "\n",
            "Validation Accuracy: 0.9977 For None max_features, 40 n_estimators and 0.5 learning rate.\n",
            "\n",
            "On test dataset:\n",
            " Accuracy: 0.998 \n",
            " Precision: 0.9980012748832636 \n",
            " Recall: 0.998 \n",
            " F1: 0.9979999987199991 \n",
            "\n",
            "Total Time Taken: 81.11873149871826 \n",
            "\n",
            "===========================================================================\n",
            "c 1500 d 100\n",
            "===========================================================================\n",
            "Finding optimal n_estimators:\n"
          ]
        },
        {
          "output_type": "stream",
          "name": "stderr",
          "text": [
            "100%|██████████| 3/3 [00:01<00:00,  2.19it/s]\n"
          ]
        },
        {
          "output_type": "stream",
          "name": "stdout",
          "text": [
            "Finding optimal learning rate:\n"
          ]
        },
        {
          "output_type": "stream",
          "name": "stderr",
          "text": [
            "100%|██████████| 3/3 [00:00<00:00, 22.95it/s]\n"
          ]
        },
        {
          "output_type": "stream",
          "name": "stdout",
          "text": [
            "\n",
            "Validation Accuracy: 1.0 For log2 max_features, 25 n_estimators and 0.1 learning rate.\n",
            "\n",
            "On test dataset:\n",
            " Accuracy: 0.98 \n",
            " Precision: 0.9801920768307323 \n",
            " Recall: 0.98 \n",
            " F1: 0.9799979997999799 \n",
            "\n",
            "Total Time Taken: 1.5717449188232422 \n",
            "\n",
            "===========================================================================\n",
            "c 1500 d 1000\n",
            "===========================================================================\n",
            "Finding optimal n_estimators:\n"
          ]
        },
        {
          "output_type": "stream",
          "name": "stderr",
          "text": [
            "100%|██████████| 3/3 [00:08<00:00,  2.80s/it]\n"
          ]
        },
        {
          "output_type": "stream",
          "name": "stdout",
          "text": [
            "Finding optimal learning rate:\n"
          ]
        },
        {
          "output_type": "stream",
          "name": "stderr",
          "text": [
            "100%|██████████| 3/3 [00:00<00:00, 10.60it/s]\n"
          ]
        },
        {
          "output_type": "stream",
          "name": "stdout",
          "text": [
            "\n",
            "Validation Accuracy: 0.9995 For log2 max_features, 35 n_estimators and 0.5 learning rate.\n",
            "\n",
            "On test dataset:\n",
            " Accuracy: 0.9995 \n",
            " Precision: 0.9995004995004995 \n",
            " Recall: 0.9995 \n",
            " F1: 0.999499999875 \n",
            "\n",
            "Total Time Taken: 8.861199855804443 \n",
            "\n",
            "===========================================================================\n",
            "c 1500 d 5000\n",
            "===========================================================================\n",
            "Finding optimal n_estimators:\n"
          ]
        },
        {
          "output_type": "stream",
          "name": "stderr",
          "text": [
            "100%|██████████| 3/3 [00:36<00:00, 12.08s/it]\n"
          ]
        },
        {
          "output_type": "stream",
          "name": "stdout",
          "text": [
            "Finding optimal learning rate:\n"
          ]
        },
        {
          "output_type": "stream",
          "name": "stderr",
          "text": [
            "100%|██████████| 3/3 [00:01<00:00,  1.81it/s]\n"
          ]
        },
        {
          "output_type": "stream",
          "name": "stdout",
          "text": [
            "\n",
            "Validation Accuracy: 0.9998 For sqrt max_features, 40 n_estimators and 0.5 learning rate.\n",
            "\n",
            "On test dataset:\n",
            " Accuracy: 0.9994 \n",
            " Precision: 0.9994003196162045 \n",
            " Recall: 0.9994000000000001 \n",
            " F1: 0.999399999904 \n",
            "\n",
            "Total Time Taken: 39.33448839187622 \n",
            "\n",
            "===========================================================================\n",
            "c 1800 d 100\n",
            "===========================================================================\n",
            "Finding optimal n_estimators:\n"
          ]
        },
        {
          "output_type": "stream",
          "name": "stderr",
          "text": [
            "100%|██████████| 3/3 [00:02<00:00,  1.44it/s]\n"
          ]
        },
        {
          "output_type": "stream",
          "name": "stdout",
          "text": [
            "Finding optimal learning rate:\n"
          ]
        },
        {
          "output_type": "stream",
          "name": "stderr",
          "text": [
            "100%|██████████| 3/3 [00:00<00:00, 14.25it/s]\n"
          ]
        },
        {
          "output_type": "stream",
          "name": "stdout",
          "text": [
            "\n",
            "Validation Accuracy: 1.0 For sqrt max_features, 25 n_estimators and 0.1 learning rate.\n",
            "\n",
            "On test dataset:\n",
            " Accuracy: 0.995 \n",
            " Precision: 0.995049504950495 \n",
            " Recall: 0.995 \n",
            " F1: 0.9949998749968749 \n",
            "\n",
            "Total Time Taken: 2.401334524154663 \n",
            "\n",
            "===========================================================================\n",
            "c 1800 d 1000\n",
            "===========================================================================\n",
            "Finding optimal n_estimators:\n"
          ]
        },
        {
          "output_type": "stream",
          "name": "stderr",
          "text": [
            "100%|██████████| 3/3 [00:06<00:00,  2.33s/it]\n"
          ]
        },
        {
          "output_type": "stream",
          "name": "stdout",
          "text": [
            "Finding optimal learning rate:\n"
          ]
        },
        {
          "output_type": "stream",
          "name": "stderr",
          "text": [
            "100%|██████████| 3/3 [00:00<00:00, 11.85it/s]\n"
          ]
        },
        {
          "output_type": "stream",
          "name": "stdout",
          "text": [
            "\n",
            "Validation Accuracy: 1.0 For sqrt max_features, 20 n_estimators and 0.1 learning rate.\n",
            "\n",
            "On test dataset:\n",
            " Accuracy: 0.998 \n",
            " Precision: 0.99800796812749 \n",
            " Recall: 0.998 \n",
            " F1: 0.997999991999968 \n",
            "\n",
            "Total Time Taken: 7.411762475967407 \n",
            "\n",
            "===========================================================================\n",
            "c 1800 d 5000\n",
            "===========================================================================\n",
            "Finding optimal n_estimators:\n"
          ]
        },
        {
          "output_type": "stream",
          "name": "stderr",
          "text": [
            "100%|██████████| 3/3 [00:36<00:00, 12.03s/it]\n"
          ]
        },
        {
          "output_type": "stream",
          "name": "stdout",
          "text": [
            "Finding optimal learning rate:\n"
          ]
        },
        {
          "output_type": "stream",
          "name": "stderr",
          "text": [
            "100%|██████████| 3/3 [00:00<00:00,  3.12it/s]\n"
          ]
        },
        {
          "output_type": "stream",
          "name": "stdout",
          "text": [
            "\n",
            "Validation Accuracy: 1.0 For log2 max_features, 40 n_estimators and 0.5 learning rate.\n",
            "\n",
            "On test dataset:\n",
            " Accuracy: 1.0 \n",
            " Precision: 1.0 \n",
            " Recall: 1.0 \n",
            " F1: 1.0 \n",
            "\n",
            "Total Time Taken: 37.634262800216675 \n",
            "\n"
          ]
        }
      ]
    },
    {
      "cell_type": "markdown",
      "source": [
        "# Downloading MNIST dataset."
      ],
      "metadata": {
        "id": "80Wyt5kAPqY5"
      }
    },
    {
      "cell_type": "code",
      "source": [
        "from sklearn.datasets import fetch_openml\n",
        "X, y = fetch_openml('mnist_784', version=1, return_X_y=True)\n",
        "X = X / 255.\n",
        "X_train, X_test = X[:60000], X[60000:]\n",
        "y_train, y_test = y[:60000], y[60000:]\n",
        "data_size = 60000\n",
        "trainX, validX, trainy, validy = train_test_split(X_train, y_train, test_size=0.33, random_state=0)"
      ],
      "metadata": {
        "colab": {
          "base_uri": "https://localhost:8080/"
        },
        "id": "PWU78BT6XFtH",
        "outputId": "a86116f2-81c6-48fd-9305-cf6937992d02"
      },
      "execution_count": 102,
      "outputs": [
        {
          "output_type": "stream",
          "name": "stderr",
          "text": [
            "/usr/local/lib/python3.9/dist-packages/sklearn/datasets/_openml.py:968: FutureWarning: The default value of `parser` will change from `'liac-arff'` to `'auto'` in 1.4. You can set `parser='auto'` to silence this warning. Therefore, an `ImportError` will be raised from 1.4 if the dataset is dense and pandas is not installed. Note that the pandas parser may return different data types. See the Notes Section in fetch_openml's API doc for details.\n",
            "  warn(\n"
          ]
        }
      ]
    },
    {
      "cell_type": "markdown",
      "source": [
        "# Using Decision Tree Classifier on MNIST"
      ],
      "metadata": {
        "id": "UQ1hLjrRPv-v"
      }
    },
    {
      "cell_type": "code",
      "source": [
        "print(\"Finding optimal parameters:\")\n",
        "#Optimizing on depth\n",
        "store_accs2 = []\n",
        "with tqdm(total=3, position=0, leave=True) as pbar:\n",
        "  for attr in ['sqrt', 'log2', None]:\n",
        "    for try_reduce_depth in [1] + list(range(data_size//50, data_size//2,data_size//50)):\n",
        "      clf = DecisionTreeClassifier(random_state = 0, max_features=attr, min_samples_leaf=try_reduce_depth).fit(trainX, trainy)\n",
        "      tr_acc, val_acc = clf.score(trainX, trainy), clf.score(validX, validy) \n",
        "      store_accs2.append((attr, try_reduce_depth, val_acc))\n",
        "    pbar.update()\n",
        "optimal_num_feat, optimal_depth_red, val_acc_best= max(store_accs2, key = lambda x: x[2])\n",
        "print(\"\\nValidation Accuracy:\", val_acc_best, \"For\", optimal_num_feat, \"max_features and\", optimal_depth_red, \"min_samples_leaf\")\n",
        "\n",
        "#Combined train and validation dataset\n",
        "clf = DecisionTreeClassifier(random_state = 0, max_features=optimal_num_feat, min_samples_leaf=optimal_depth_red).fit(X_train, y_train)\n",
        "ypred = clf.predict(X_test)\n",
        "test_acc = clf.score(X_test, y_test) \n",
        "precision, recall, f1, _ = precision_recall_fscore_support(y_test, ypred, average = 'macro')\n",
        "print(\"\\nOn test dataset:\\n\", \"Accuracy:\", test_acc, \"\\n\", \"Precision:\", precision, \"\\n\", \"Recall:\", recall, \"\\n\", \"F1:\", f1, \"\\n\")\n",
        "print(\"Total Time Taken:\", time()-st,\"\\n\")"
      ],
      "metadata": {
        "colab": {
          "base_uri": "https://localhost:8080/"
        },
        "id": "MqgY5gUQNvIy",
        "outputId": "9e676ddd-9ee9-4242-f1b2-53ec1143652b"
      },
      "execution_count": 108,
      "outputs": [
        {
          "output_type": "stream",
          "name": "stdout",
          "text": [
            "Finding optimal parameters:\n"
          ]
        },
        {
          "output_type": "stream",
          "name": "stderr",
          "text": [
            "100%|██████████| 3/3 [01:23<00:00, 27.86s/it]\n"
          ]
        },
        {
          "output_type": "stream",
          "name": "stdout",
          "text": [
            "\n",
            "Validation Accuracy: 0.8625757575757576 For None max_features and 1 min_samples_leaf\n",
            "\n",
            "On test dataset:\n",
            " Accuracy: 0.8779 \n",
            " Precision: 0.8766071633824115 \n",
            " Recall: 0.8763956057044318 \n",
            " F1: 0.8764276413789659 \n",
            "\n",
            "Total Time Taken: 1464.451583623886 \n",
            "\n"
          ]
        }
      ]
    },
    {
      "cell_type": "markdown",
      "source": [
        "# Using Bagging Classifier on MNIST"
      ],
      "metadata": {
        "id": "fz-ak2YWP3Dc"
      }
    },
    {
      "cell_type": "code",
      "source": [
        "print(\"Finding optimal parameters:\")\n",
        "#Optimizing on depth\n",
        "store_accs2 = []\n",
        "with tqdm(total=2, position=0, leave=True) as pbar:\n",
        "  for name_try, attr in [('sqrt', int(math.sqrt(trainX.shape[1]))), ('log2', int(math.log2(trainX.shape[1])))]:\n",
        "    for try_estimator in range(10, 25, 5):\n",
        "      clf = BaggingClassifier(random_state = 0, estimator=DecisionTreeClassifier(), max_features=attr, n_estimators=try_estimator).fit(trainX, trainy)\n",
        "      tr_acc, val_acc = clf.score(trainX, trainy), clf.score(validX, validy) \n",
        "      store_accs2.append((try_max_features, try_estimator, val_acc))\n",
        "    pbar.update()\n",
        "optimal_num_feat, optimal_est_n, val_acc_best= max(store_accs2, key = lambda x: x[2])\n",
        "print(\"\\nValidation Accuracy:\", val_acc_best, \"For\", optimal_num_feat, \"max_features and\", optimal_est_n, \"n_estimators\")\n",
        "\n",
        "#Combined train and validation dataset\n",
        "clf = BaggingClassifier(random_state = 0, estimator=DecisionTreeClassifier(), max_features=optimal_num_feat, n_estimators=optimal_est_n).fit(X_train, y_train)\n",
        "\n",
        "ypred = clf.predict(X_test)\n",
        "test_acc = clf.score(X_test, y_test) \n",
        "precision, recall, f1, _ = precision_recall_fscore_support(y_test, ypred, average = 'macro')\n",
        "print(\"\\nOn test dataset:\\n\", \"Accuracy:\", test_acc, \"\\n\", \"Precision:\", precision, \"\\n\", \"Recall:\", recall, \"\\n\", \"F1:\", f1, \"\\n\")\n",
        "print(\"Total Time Taken:\", time()-st,\"\\n\")"
      ],
      "metadata": {
        "colab": {
          "base_uri": "https://localhost:8080/"
        },
        "id": "KIXfH3duUnmn",
        "outputId": "2608bd93-5a7d-4254-fcd5-010823b3db0f"
      },
      "execution_count": 119,
      "outputs": [
        {
          "output_type": "stream",
          "name": "stdout",
          "text": [
            "Finding optimal parameters:\n"
          ]
        },
        {
          "output_type": "stream",
          "name": "stderr",
          "text": [
            "100%|██████████| 2/2 [00:19<00:00,  9.58s/it]\n"
          ]
        },
        {
          "output_type": "stream",
          "name": "stdout",
          "text": [
            "\n",
            "Validation Accuracy: 0.8997474747474747 For 499 max_features and 20 n_estimators\n",
            "\n",
            "On test dataset:\n",
            " Accuracy: 0.9582 \n",
            " Precision: 0.9579025278375541 \n",
            " Recall: 0.9577075481220423 \n",
            " F1: 0.9577531082748332 \n",
            "\n",
            "Total Time Taken: 3540.0547671318054 \n",
            "\n"
          ]
        }
      ]
    },
    {
      "cell_type": "markdown",
      "source": [
        "# Using Random Forest Classifier on MNIST"
      ],
      "metadata": {
        "id": "vE4nLR6qP5us"
      }
    },
    {
      "cell_type": "code",
      "source": [
        "print(\"Finding optimal parameters:\")\n",
        "store_accs2 = []\n",
        "with tqdm(total=2, position=0, leave=True) as pbar:\n",
        "  for attr in ['sqrt', 'log2']:\n",
        "    for try_reduce_depth in [1]:\n",
        "      clf = RandomForestClassifier(random_state = 0, max_features=attr, min_samples_leaf=try_reduce_depth).fit(trainX, trainy)\n",
        "      tr_acc, val_acc = clf.score(trainX, trainy), clf.score(validX, validy) \n",
        "      store_accs2.append((attr, try_reduce_depth, val_acc))\n",
        "    pbar.update()\n",
        "optimal_num_feat, optimal_depth_red, val_acc_best= max(store_accs2, key = lambda x: x[2])\n",
        "print(\"\\nValidation Accuracy:\", val_acc_best, \"For\", optimal_num_feat, \"max_features and\", optimal_depth_red, \"min_samples_leaf\")\n",
        "\n",
        "#Combined train and validation dataset\n",
        "# fin_trainX, fin_trainy = pd.concat([trainX, validX], axis = 0), pd.concat([trainy, validy], axis = 0)\n",
        "clf = RandomForestClassifier(random_state = 0, max_features=optimal_num_feat, min_samples_leaf=optimal_depth_red).fit(X_train, y_train)\n",
        "\n",
        "ypred = clf.predict(X_test)\n",
        "test_acc = clf.score(X_test, y_test) \n",
        "precision, recall, f1, _ = precision_recall_fscore_support(y_test, ypred, average = 'macro')\n",
        "print(\"\\nOn test dataset:\\n\", \"Accuracy:\", test_acc, \"\\n\", \"Precision:\", precision, \"\\n\", \"Recall:\", recall, \"\\n\", \"F1:\", f1, \"\\n\")\n",
        "print(\"Total Time Taken:\", time()-st,\"\\n\")"
      ],
      "metadata": {
        "colab": {
          "base_uri": "https://localhost:8080/"
        },
        "id": "S7NBEhVxVBIw",
        "outputId": "48cddcd2-da6d-4c84-d013-516202e20c47"
      },
      "execution_count": 115,
      "outputs": [
        {
          "output_type": "stream",
          "name": "stdout",
          "text": [
            "Finding optimal parameters:\n"
          ]
        },
        {
          "output_type": "stream",
          "name": "stderr",
          "text": [
            "100%|██████████| 2/2 [01:10<00:00, 35.31s/it]\n"
          ]
        },
        {
          "output_type": "stream",
          "name": "stdout",
          "text": [
            "\n",
            "Validation Accuracy: 0.9675757575757575 For sqrt max_features and 1 min_samples_leaf\n",
            "\n",
            "On test dataset:\n",
            " Accuracy: 0.9705 \n",
            " Precision: 0.9702292282943962 \n",
            " Recall: 0.9702805962559312 \n",
            " F1: 0.9702351062124602 \n",
            "\n",
            "Total Time Taken: 3090.2914838790894 \n",
            "\n"
          ]
        }
      ]
    },
    {
      "cell_type": "markdown",
      "source": [
        "# Using Gradient Boosting Classifier on MNIST"
      ],
      "metadata": {
        "id": "JyOi2_PQP8uL"
      }
    },
    {
      "cell_type": "code",
      "source": [
        "print(\"Finding optimal n_estimators:\")\n",
        "#Optimizing on depth\n",
        "store_accs2 = []\n",
        "with tqdm(total=2, position=0, leave=True) as pbar:\n",
        "  for attr in ['sqrt', 'log2']:\n",
        "    for try_estimator in range(10, 25, 5):\n",
        "      clf = GradientBoostingClassifier(random_state = 0, max_features=attr, n_estimators=try_estimator).fit(trainX, trainy)\n",
        "      tr_acc, val_acc = clf.score(trainX, trainy), clf.score(validX, validy) \n",
        "      store_accs2.append((attr, try_estimator, val_acc))\n",
        "    pbar.update()\n",
        "optimal_num_feat, optimal_est_n, val_acc_best= max(store_accs2, key = lambda x: x[2])\n",
        "\n",
        "print(\"Finding optimal learning rate:\")\n",
        "store_accs3 = [(0.1, val_acc_best)]\n",
        "with tqdm(total=3, position=0, leave=True) as pbar:\n",
        "  for lr in [0.01, 0.5, 1]:\n",
        "    clf = GradientBoostingClassifier(random_state = 0, max_features=optimal_num_feat, n_estimators=optimal_est_n, learning_rate = lr).fit(trainX, trainy)\n",
        "    tr_acc, val_acc = clf.score(trainX, trainy), clf.score(validX, validy) \n",
        "    store_accs3.append((lr,val_acc))\n",
        "    pbar.update()\n",
        "opt_lr, val_acc_best= max(store_accs3, key = lambda x: x[1])\n",
        "print(\"\\nValidation Accuracy:\", val_acc_best, \"For\", optimal_num_feat, \"max_features,\", optimal_est_n, \"n_estimators and\", opt_lr, \"learning rate.\")\n",
        "\n",
        "#Combined train and validation dataset\n",
        "clf = GradientBoostingClassifier(random_state = 0, max_features=optimal_num_feat, n_estimators=optimal_est_n, learning_rate = opt_lr).fit(X_train, y_train)\n",
        "\n",
        "ypred = clf.predict(X_test)\n",
        "test_acc = clf.score(X_test, y_test) \n",
        "precision, recall, f1, _ = precision_recall_fscore_support(y_test, ypred, average = 'macro')\n",
        "print(\"\\nOn test dataset:\\n\", \"Accuracy:\", test_acc, \"\\n\", \"Precision:\", precision, \"\\n\", \"Recall:\", recall, \"\\n\", \"F1:\", f1, \"\\n\")\n",
        "print(\"Total Time Taken:\", time()-st,\"\\n\")"
      ],
      "metadata": {
        "colab": {
          "base_uri": "https://localhost:8080/"
        },
        "id": "Sx7MsqOUVzmY",
        "outputId": "7f1bc372-4d20-46bd-9600-d237d80d6681"
      },
      "execution_count": 120,
      "outputs": [
        {
          "output_type": "stream",
          "name": "stdout",
          "text": [
            "Finding optimal n_estimators:\n"
          ]
        },
        {
          "output_type": "stream",
          "name": "stderr",
          "text": [
            "100%|██████████| 2/2 [01:32<00:00, 46.36s/it]\n"
          ]
        },
        {
          "output_type": "stream",
          "name": "stdout",
          "text": [
            "Finding optimal learning rate:\n"
          ]
        },
        {
          "output_type": "stream",
          "name": "stderr",
          "text": [
            "100%|██████████| 3/3 [00:55<00:00, 18.44s/it]\n"
          ]
        },
        {
          "output_type": "stream",
          "name": "stdout",
          "text": [
            "\n",
            "Validation Accuracy: 0.9087373737373737 For sqrt max_features, 20 n_estimators and 0.5 learning rate.\n",
            "\n",
            "On test dataset:\n",
            " Accuracy: 0.9143 \n",
            " Precision: 0.9136284397631893 \n",
            " Recall: 0.9130241144917202 \n",
            " F1: 0.9131369254092189 \n",
            "\n",
            "Total Time Taken: 3766.884696483612 \n",
            "\n"
          ]
        }
      ]
    }
  ]
}